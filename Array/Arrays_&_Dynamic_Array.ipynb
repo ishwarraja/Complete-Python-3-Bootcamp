{
  "nbformat": 4,
  "nbformat_minor": 0,
  "metadata": {
    "colab": {
      "name": "Arrays & Dynamic Array.ipynb",
      "provenance": [],
      "collapsed_sections": [],
      "authorship_tag": "ABX9TyPRwFLqRTuGeHfMNX47+2vJ",
      "include_colab_link": true
    },
    "kernelspec": {
      "name": "python3",
      "display_name": "Python 3"
    },
    "language_info": {
      "name": "python"
    }
  },
  "cells": [
    {
      "cell_type": "markdown",
      "metadata": {
        "id": "view-in-github",
        "colab_type": "text"
      },
      "source": [
        "<a href=\"https://colab.research.google.com/github/ishwarraja/Complete-Python-3-Bootcamp/blob/master/Array/Arrays_%26_Dynamic_Array.ipynb\" target=\"_parent\"><img src=\"https://colab.research.google.com/assets/colab-badge.svg\" alt=\"Open In Colab\"/></a>"
      ]
    },
    {
      "cell_type": "markdown",
      "metadata": {
        "id": "kxKK4pb5m5_I"
      },
      "source": [
        "Q1. "
      ]
    },
    {
      "cell_type": "code",
      "metadata": {
        "colab": {
          "base_uri": "https://localhost:8080/"
        },
        "id": "RsCrjFPDmv1i",
        "outputId": "d84c4b74-e768-4737-f5bf-180807f7f7d7"
      },
      "source": [
        "class Solution:\n",
        "    def fizzBuzz(self, n):\n",
        "        \"\"\"\n",
        "        :type n: int\n",
        "        :rtype: List[str]\n",
        "        \"\"\"\n",
        "        # ans list\n",
        "        ans = []\n",
        "\n",
        "        for num in range(1,n+1):\n",
        "\n",
        "            divisible_by_3 = (num % 3 == 0)\n",
        "            divisible_by_5 = (num % 5 == 0)\n",
        "\n",
        "            if divisible_by_3 and divisible_by_5:\n",
        "                # Divides by both 3 and 5, add FizzBuzz\n",
        "                ans.append(\"FizzBuzz\")\n",
        "            elif divisible_by_3:\n",
        "                # Divides by 3, add Fizz\n",
        "                ans.append(\"Fizz\")\n",
        "            elif divisible_by_5:\n",
        "                # Divides by 5, add Buzz\n",
        "                ans.append(\"Buzz\")\n",
        "            else:\n",
        "                # Not divisible by 3 or 5, add the number\n",
        "                ans.append(str(num))\n",
        "\n",
        "        return ans\n",
        "\n",
        "pt1 = Solution()\n",
        "result = pt1.fizzBuzz(3)\n",
        "print(*result, sep=' ')\n",
        "\n",
        "\n"
      ],
      "execution_count": 1,
      "outputs": [
        {
          "output_type": "stream",
          "text": [
            "1 2 Fizz\n"
          ],
          "name": "stdout"
        }
      ]
    },
    {
      "cell_type": "markdown",
      "metadata": {
        "id": "PK-VOpM4N0kM"
      },
      "source": [
        "Q3. Given an integer array A of size N. In one second you can increase the value of one element by 1.\n",
        "\n",
        "Find the minimum time in seconds to make all elements of the array equal."
      ]
    },
    {
      "cell_type": "code",
      "metadata": {
        "id": "TU_vPqecN0-J"
      },
      "source": [
        ""
      ],
      "execution_count": null,
      "outputs": []
    },
    {
      "cell_type": "code",
      "metadata": {
        "colab": {
          "base_uri": "https://localhost:8080/"
        },
        "id": "OVV13s8gnBJw",
        "outputId": "f4935761-dc6b-4b37-eaee-2248cff0d0b3"
      },
      "source": [
        "import numpy as np\n",
        "\n",
        "my_list = [2,4,6,8,10]\n",
        "my_array = np. array(my_list)\n",
        "# printing my_array.\n",
        "print(my_array)"
      ],
      "execution_count": 5,
      "outputs": [
        {
          "output_type": "stream",
          "text": [
            "[ 2  4  6  8 10]\n"
          ],
          "name": "stdout"
        }
      ]
    },
    {
      "cell_type": "code",
      "metadata": {
        "colab": {
          "base_uri": "https://localhost:8080/"
        },
        "id": "5iB4XdtWJb_7",
        "outputId": "16e5f987-b16f-4103-9738-1acaf39460d5"
      },
      "source": [
        "fruits = [\"apple\", \"banana\", \"cherry\", \"kiwi\", \"mango\"]\n",
        "newlist = []\n",
        "\n",
        "for x in fruits:\n",
        "  if \"a\" in x:\n",
        "    newlist.append(x)\n",
        "\n",
        "print(newlist) "
      ],
      "execution_count": 1,
      "outputs": [
        {
          "output_type": "stream",
          "text": [
            "['apple', 'banana', 'mango']\n"
          ],
          "name": "stdout"
        }
      ]
    },
    {
      "cell_type": "code",
      "metadata": {
        "colab": {
          "base_uri": "https://localhost:8080/"
        },
        "id": "iSc4N6yyJcfT",
        "outputId": "1b3e9fda-ee2d-46ee-b7cb-df4e886cf3b1"
      },
      "source": [
        " thistuple = (\"apple\", \"banana\", \"cherry\", \"apple\", \"cherry\")\n",
        "print(thistuple)"
      ],
      "execution_count": 2,
      "outputs": [
        {
          "output_type": "stream",
          "text": [
            "('apple', 'banana', 'cherry', 'apple', 'cherry')\n"
          ],
          "name": "stdout"
        }
      ]
    },
    {
      "cell_type": "code",
      "metadata": {
        "id": "GNU7MquwJcrP"
      },
      "source": [
        ""
      ],
      "execution_count": null,
      "outputs": []
    },
    {
      "cell_type": "code",
      "metadata": {
        "id": "wspdakBZJcuS"
      },
      "source": [
        ""
      ],
      "execution_count": null,
      "outputs": []
    },
    {
      "cell_type": "code",
      "metadata": {
        "id": "R4CTOhTHJcx1"
      },
      "source": [
        ""
      ],
      "execution_count": null,
      "outputs": []
    }
  ]
}